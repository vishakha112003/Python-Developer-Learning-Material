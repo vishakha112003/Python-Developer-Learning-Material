{
 "cells": [
  {
   "cell_type": "markdown",
   "id": "d0436070",
   "metadata": {},
   "source": [
    "# Introduction to Arrays"
   ]
  },
  {
   "cell_type": "markdown",
   "id": "8ab9a83d",
   "metadata": {},
   "source": [
    "Array is a linear data structure that is a collection of similar data types. Arrays are stored in contiguous memory locations. It is a static data structure with a fixed size. It combines data of similar types."
   ]
  },
  {
   "attachments": {
    "image.png": {
     "image/png": "[encoded data removed]"
    }
   },
   "cell_type": "markdown",
   "id": "f5a5b35e",
   "metadata": {},
   "source": [
    "![image.png](attachment:image.png)"
   ]
  },
  {
   "cell_type": "markdown",
   "id": "f60e3e71",
   "metadata": {},
   "source": [
    "### Advantages of array data structure\n",
    "\n",
    "- Efficient access to elements\n",
    "- Fast data retrieval\n",
    "- Memory efficiency\n",
    "- Versatility\n",
    "- Easy to implement\n",
    "- Compatibility with hardware."
   ]
  },
  {
   "cell_type": "markdown",
   "id": "ca0c5f2e",
   "metadata": {},
   "source": [
    "### Disadvantages of array data structure\n",
    "\n",
    "- Fixed size\n",
    "- single data type only\n",
    "- Insertion and deletion issues\n",
    "- Lack of flexibility"
   ]
  },
  {
   "cell_type": "markdown",
   "id": "45a84370",
   "metadata": {},
   "source": [
    "## Types of Arrays"
   ]
  },
  {
   "cell_type": "markdown",
   "id": "cb0e4941",
   "metadata": {},
   "source": [
    "There are two main types of arrays:\n",
    "\n",
    "- One-dimensional arrays: These arrays store a single row of elements.\n",
    "- Multidimensional arrays: These arrays store multiple rows of elements."
   ]
  },
  {
   "cell_type": "markdown",
   "id": "23f88d53",
   "metadata": {},
   "source": [
    "### Referential Arrays\n",
    "Referential arrays, often referred to as arrays of references or arrays of pointers, are arrays where each element is a reference (or pointer) to another object rather than a direct value. In Python, this concept is naturally integrated since Python lists inherently store references to objects."
   ]
  },
  {
   "cell_type": "markdown",
   "id": "2d23c306",
   "metadata": {},
   "source": [
    "### Dynamic Arrays\n",
    "Dynamic arrays are a type of array that can grow and shrink in size dynamically during runtime. They provide more flexibility compared to static arrays, which have a fixed size defined at the time of their creation."
   ]
  },
  {
   "cell_type": "markdown",
   "id": "73a31b5e",
   "metadata": {},
   "source": [
    "#### Characteristics of Dynamic Arrays\n",
    "- Automatic Resizing: The array automatically resizes itself when more space is needed or when elements are removed.\n",
    "- Efficient Access: Provides O(1) time complexity for accessing elements by index.\n",
    "- Amortized Cost: Although resizing operations can be costly, the average time complexity for insertions is still O(1) due to amortized analysis."
   ]
  },
  {
   "cell_type": "markdown",
   "id": "9a0c9cfd",
   "metadata": {},
   "source": [
    "We will work on basic operations on Dynamic Arrays."
   ]
  },
  {
   "cell_type": "code",
   "execution_count": 3,
   "id": "c64f8bfb",
   "metadata": {},
   "outputs": [],
   "source": [
    "import ctypes\n",
    "# to create C type ka array"
   ]
  },
  {
   "cell_type": "code",
   "execution_count": 23,
   "id": "fd7c644c",
   "metadata": {},
   "outputs": [],
   "source": [
    "class Array:\n",
    "    \n",
    "    #initializing the array\n",
    "    def __init__(self):\n",
    "        self.size=1\n",
    "        self.n=0\n",
    "        # create a C type ka array with size -> self.size\n",
    "        self.A = self.__make_array(self.size)\n",
    "        \n",
    "    def __make_array(self,capacity):\n",
    "    # referential array(C type)\n",
    "        return (capacity*ctypes.py_object)()\n",
    "    \n",
    "    #to check length of array \n",
    "    def __len__(self):\n",
    "        return self.n\n",
    "    \n",
    "    #to append a new value\n",
    "    def append(self,value):\n",
    "        if self.n==self.size:\n",
    "            self.__resize(self.size*2)\n",
    "            \n",
    "        self.A[self.n]=value\n",
    "        self.n=self.n+1\n",
    "        \n",
    "    #to resize the array    \n",
    "    def __resize(self,new_capacity):\n",
    "        # create a new array with new capacity\n",
    "        B = self.__make_array(new_capacity)\n",
    "        self.size = new_capacity\n",
    "        # copy the content of old array to new one\n",
    "        for i in range(self.n):\n",
    "              B[i] = self.A[i]\n",
    "        # reassign A\n",
    "        self.A = B\n",
    "    \n",
    "    #to pop the last value\n",
    "    def pop(self):\n",
    "        if self.n==0:\n",
    "            return 'Empty List'\n",
    "        else:\n",
    "            print(self.A[self.n-1])\n",
    "            self.n=self.n-1\n",
    "\n",
    "    #to clear the array\n",
    "    def clear(self):\n",
    "        self.n=0\n",
    "        self.size=1\n",
    "        \n",
    "    #to find an item in the array\n",
    "    def find(self,item):\n",
    "        for i in range(self.n):\n",
    "            if self.A[i]==item:\n",
    "                return i \n",
    "            else:\n",
    "                return 'Value Error: Not in list'\n",
    "    \n",
    "    #to insert an item at an index\n",
    "    def insert(self,pos,item):\n",
    "        if self.n==self.size:\n",
    "            self.__resize(self.size*2)\n",
    "        \n",
    "        for i in range(self.n,pos,-1):\n",
    "            self.A[i]=self.A[i-1]\n",
    "\n",
    "        self.A[pos]=item\n",
    "        self.n=self.n+1\n",
    "    \n",
    "    #to delete an item\n",
    "    def remove(self,item):\n",
    "        #check if array is empty\n",
    "        if self.n==0:\n",
    "            return 'Empty List'\n",
    "        #search and get position\n",
    "        pos=self.find(item)\n",
    "        if type(pos)==int:\n",
    "            self.__delitem__(pos)\n",
    "            \n",
    "    def __delitem__(self,pos):\n",
    "        # delete pos wala item\n",
    "        if 0<= pos < self.n:\n",
    "            for i in range(pos,self.n-1):\n",
    "                self.A[i] = self.A[i+1]\n",
    "\n",
    "            self.n = self.n - 1\n",
    "            \n",
    "    #adding print functionality\n",
    "    def __str__(self):\n",
    "        result=''\n",
    "        for i in range(self.n):\n",
    "            result=result+print(self.A[i])+','\n",
    "        \n",
    "        return result\n",
    "    \n",
    "    #to get an item from a particular index\n",
    "    def __getitem__(self,index):\n",
    "\n",
    "        if 0<= index < self.n:\n",
    "              return self.A[index]\n",
    "        else:\n",
    "              return 'IndexError'"
   ]
  },
  {
   "cell_type": "markdown",
   "id": "1ed6ac45",
   "metadata": {},
   "source": [
    "Create an object in Array class and then we can start implementing the functions on the object."
   ]
  },
  {
   "cell_type": "code",
   "execution_count": 24,
   "id": "9df628ac",
   "metadata": {},
   "outputs": [],
   "source": [
    "#creating the object \n",
    "L=Array()"
   ]
  },
  {
   "cell_type": "code",
   "execution_count": 25,
   "id": "98d58f74",
   "metadata": {},
   "outputs": [],
   "source": [
    "#examples of trying some of these functions \n",
    "L.append(2)\n",
    "L.append(3)"
   ]
  },
  {
   "cell_type": "code",
   "execution_count": 26,
   "id": "4d943ca6",
   "metadata": {},
   "outputs": [
    {
     "name": "stdout",
     "output_type": "stream",
     "text": [
      "3\n"
     ]
    }
   ],
   "source": [
    "L.pop()"
   ]
  },
  {
   "cell_type": "markdown",
   "id": "adad5af8",
   "metadata": {},
   "source": [
    "#### Let's start with solving some questions on Arrays."
   ]
  },
  {
   "cell_type": "markdown",
   "id": "4397ed7c",
   "metadata": {},
   "source": [
    "    Q) Write a program to reverse an array."
   ]
  },
  {
   "cell_type": "code",
   "execution_count": 27,
   "id": "78368a6c",
   "metadata": {},
   "outputs": [],
   "source": [
    "def reverse(arr):\n",
    "    arr=arr[::-1]\n",
    "    return arr"
   ]
  },
  {
   "cell_type": "code",
   "execution_count": 31,
   "id": "d1220887",
   "metadata": {},
   "outputs": [
    {
     "data": {
      "text/plain": [
       "[4, 3, 2, 1]"
      ]
     },
     "execution_count": 31,
     "metadata": {},
     "output_type": "execute_result"
    }
   ],
   "source": [
    "#Example usage \n",
    "arr=[1,2,3,4]\n",
    "reverse(arr)"
   ]
  },
  {
   "cell_type": "code",
   "execution_count": 33,
   "id": "47bd8d25",
   "metadata": {},
   "outputs": [
    {
     "name": "stdout",
     "output_type": "stream",
     "text": [
      "[1, 2, 3, 4, 5, 6]\n",
      "Reversed list is\n",
      "[6, 5, 4, 3, 2, 1]\n"
     ]
    }
   ],
   "source": [
    "#Second method without slicing \n",
    "def reverseList(A, start, end):\n",
    "    while start < end:\n",
    "        A[start], A[end] = A[end], A[start]\n",
    "        start += 1\n",
    "        end -= 1\n",
    "\n",
    "\n",
    "# Driver function to test above function\n",
    "A = [1, 2, 3, 4, 5, 6]\n",
    "print(A)\n",
    "reverseList(A, 0, 5)\n",
    "print(\"Reversed list is\")\n",
    "print(A)"
   ]
  },
  {
   "cell_type": "markdown",
   "id": "380d704f",
   "metadata": {},
   "source": [
    "    Q) Given an array of integers nums and an integer target, return indices of the two numbers such that they add up to target. You may assume that each input would have exactly one solution, and you may not use the same element twice. You can return the answer in any order."
   ]
  },
  {
   "cell_type": "code",
   "execution_count": 40,
   "id": "1b99c2b1",
   "metadata": {},
   "outputs": [],
   "source": [
    "def twosum(arr, target):\n",
    "    n = len(arr)\n",
    "    for i in range(n):\n",
    "        for j in range(i + 1, n):\n",
    "            if arr[i] + arr[j] == target:\n",
    "                return i, j\n",
    "    return 'No such elements found'"
   ]
  },
  {
   "cell_type": "code",
   "execution_count": 41,
   "id": "8db9a216",
   "metadata": {},
   "outputs": [],
   "source": [
    "arr=[2,7,11,15]\n",
    "target=9"
   ]
  },
  {
   "cell_type": "code",
   "execution_count": 42,
   "id": "39115f7f",
   "metadata": {},
   "outputs": [
    {
     "data": {
      "text/plain": [
       "(0, 1)"
      ]
     },
     "execution_count": 42,
     "metadata": {},
     "output_type": "execute_result"
    }
   ],
   "source": [
    "twosum(arr,target)"
   ]
  },
  {
   "cell_type": "markdown",
   "id": "acf0a8b7",
   "metadata": {},
   "source": [
    "    Q) You are given an integer array height of length n. There are n vertical lines drawn such that the two endpoints of the ith line are (i, 0) and (i, height[i]).Find two lines that together with the x-axis form a container, such that the container contains the most water. Return the maximum amount of water a container can store.\n",
    "\n"
   ]
  },
  {
   "cell_type": "code",
   "execution_count": 43,
   "id": "5d621e24",
   "metadata": {},
   "outputs": [
    {
     "name": "stdout",
     "output_type": "stream",
     "text": [
      "49\n"
     ]
    }
   ],
   "source": [
    "def max_area(height):\n",
    "    left = 0\n",
    "    right = len(height) - 1\n",
    "    max_water = 0\n",
    "    \n",
    "    while left < right:\n",
    "        # Calculate the height and width\n",
    "        h = min(height[left], height[right])\n",
    "        w = right - left\n",
    "        \n",
    "        # Calculate the current area\n",
    "        current_area = h * w\n",
    "        \n",
    "        # Update the maximum area found so far\n",
    "        max_water = max(max_water, current_area)\n",
    "        \n",
    "        # Move the pointers\n",
    "        if height[left] < height[right]:\n",
    "            left += 1\n",
    "        else:\n",
    "            right -= 1\n",
    "    \n",
    "    return max_water\n",
    "\n",
    "# Example usage:\n",
    "height = [1,8,6,2,5,4,8,3,7]\n",
    "result = max_area(height)\n",
    "print(result) "
   ]
  },
  {
   "cell_type": "markdown",
   "id": "279c583e",
   "metadata": {},
   "source": [
    "    Q) You are given a large integer represented as an integer array digits, where each digits[i] is the ith digit of the integer. The digits are ordered from most significant to least significant in left-to-right order. The large integer does not contain any leading 0's. Increment the large integer by one and return the resulting array of digits.\n",
    "\n"
   ]
  },
  {
   "cell_type": "code",
   "execution_count": 47,
   "id": "59c616c4",
   "metadata": {},
   "outputs": [],
   "source": [
    "def plusOne(digits):\n",
    "    n=len(digits)\n",
    "    for i in range(n-1, -1, -1):\n",
    "        # Add one to the current digit\n",
    "        digits[i] += 1\n",
    "        \n",
    "        # If the current digit is less than 10, we are done\n",
    "        if digits[i] < 10:\n",
    "            return digits\n",
    "        \n",
    "        # If the current digit is 10, set it to 0 and carry over\n",
    "        digits[i] = 0\n",
    "    \n",
    "    # If we finished the loop and all the digits were 9\n",
    "    # We need to add a 1 at the beginning\n",
    "    return [1] + digits"
   ]
  },
  {
   "cell_type": "code",
   "execution_count": 48,
   "id": "a579655b",
   "metadata": {},
   "outputs": [],
   "source": [
    "arr=[1,2,3,4]"
   ]
  },
  {
   "cell_type": "code",
   "execution_count": 49,
   "id": "f2b4ee32",
   "metadata": {},
   "outputs": [
    {
     "data": {
      "text/plain": [
       "[1, 2, 3, 5]"
      ]
     },
     "execution_count": 49,
     "metadata": {},
     "output_type": "execute_result"
    }
   ],
   "source": [
    "plusOne(arr)"
   ]
  }
 ],
 "metadata": {
  "kernelspec": {
   "display_name": "Python 3 (ipykernel)",
   "language": "python",
   "name": "python3"
  },
  "language_info": {
   "codemirror_mode": {
    "name": "ipython",
    "version": 3
   },
   "file_extension": ".py",
   "mimetype": "text/x-python",
   "name": "python",
   "nbconvert_exporter": "python",
   "pygments_lexer": "ipython3",
   "version": "3.9.13"
  }
 },
 "nbformat": 4,
 "nbformat_minor": 5
}
