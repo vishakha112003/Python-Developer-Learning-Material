{
 "cells": [
  {
   "cell_type": "markdown",
   "id": "58ce6cb3",
   "metadata": {},
   "source": [
    "# yapf "
   ]
  },
  {
   "cell_type": "markdown",
   "id": "7600aa0c",
   "metadata": {},
   "source": [
    "YAPF (Yet Another Python Formatter) is a Python code formatter created by Google. It reformats your Python code to make it more consistent and readable according to a set of formatting rules. The idea is that instead of spending time manually formatting your code, you let YAPF handle it for you, so you can focus on writing the code itself."
   ]
  },
  {
   "cell_type": "markdown",
   "id": "99128972",
   "metadata": {},
   "source": [
    "### How YAPF Works:\n",
    "- Code Style: YAPF uses a configurable style guide (you can choose from PEP 8, Google's style guide, or define your own custom style).\n",
    "- Automatic Formatting: When you run YAPF, it automatically adjusts the spacing, indentation, line breaks, and other aspects of your code to match the chosen style guide.\n",
    "- Customization: You can customize YAPF's behavior through configuration files like .style.yapf or command-line options."
   ]
  },
  {
   "cell_type": "raw",
   "id": "852e7c88",
   "metadata": {},
   "source": [
    "yapf -i your_file.py #this is the command "
   ]
  },
  {
   "cell_type": "raw",
   "id": "6d6bfc84",
   "metadata": {},
   "source": [
    "You can create a .style.yapf file in your project directory to customize the formatting style:\n",
    "\n",
    "[style]\n",
    "based_on_style = pep8\n",
    "column_limit = 80\n",
    "spaces_before_comment = 4\n",
    "split_before_logical_operator = true"
   ]
  },
  {
   "cell_type": "markdown",
   "id": "06086ab3",
   "metadata": {},
   "source": [
    "# black"
   ]
  },
  {
   "cell_type": "markdown",
   "id": "ada4fb6b",
   "metadata": {},
   "source": [
    "Black is another Python code formatter, often referred to as \"The Uncompromising Code Formatter.\" It is designed to format Python code according to a set of rules that are intentionally opinionated, meaning that there are fewer options for customization compared to other formatters like YAPF. The main goal of Black is to ensure code consistency and readability while minimizing debates over style.\n",
    "\n",
    "### Key Features of Black:\n",
    "- Opinionated Formatting: Black automatically formats your code based on a specific set of rules. This reduces the need for manual configuration and enforces a consistent style across your codebase.\n",
    "- Speed: Black is designed to be fast and efficient, allowing you to integrate it easily into your development workflow.\n",
    "- Minimal Configuration: Unlike YAPF, Black offers very few configuration options. This is intentional, to reduce debates about code style and to make code look the same regardless of the user’s preferences."
   ]
  },
  {
   "cell_type": "raw",
   "id": "7a28cf8f",
   "metadata": {},
   "source": [
    "black your_file.py #this is the command"
   ]
  },
  {
   "cell_type": "raw",
   "id": "07b6b624",
   "metadata": {},
   "source": [
    "### Example of Black's Formatting:\n",
    "\n",
    "Before:\n",
    "def example_function( x, y ) -> int: return x+y\n",
    "\n",
    "After Running Black:\n",
    "def example_function(x, y) -> int:\n",
    "    return x + y"
   ]
  },
  {
   "cell_type": "markdown",
   "id": "8879eded",
   "metadata": {},
   "source": [
    "Black can be integrated into various code editors like VS Code, PyCharm, and others, allowing you to automatically format your code on save."
   ]
  },
  {
   "cell_type": "markdown",
   "id": "ce3ac317",
   "metadata": {},
   "source": [
    "# ruff"
   ]
  },
  {
   "cell_type": "markdown",
   "id": "b1ce88f3",
   "metadata": {},
   "source": [
    "Ruff is a fast, all-in-one Python linter and code formatting tool designed to catch errors, enforce code style, and improve code quality. It aims to provide the functionality of several other tools (like flake8, isort, and black) in a single, highly performant package. Ruff is particularly well-suited for large codebases and CI/CD pipelines where speed and efficiency are critical."
   ]
  },
  {
   "cell_type": "markdown",
   "id": "951eb7bc",
   "metadata": {},
   "source": [
    "### Key Features of Ruff:\n",
    "- Performance: Ruff is written in Rust, which makes it exceptionally fast compared to many other Python linters and formatters.\n",
    "- All-in-One: Ruff integrates functionality from multiple tools, including:\n",
    "    - Flake8: For code linting and enforcing PEP 8 style rules.\n",
    "    -isort: For sorting imports.\n",
    "    -pyupgrade: For upgrading syntax to modern Python versions.\n",
    "- Black-like: For formatting code in a style similar to Black.\n",
    "- Extensible: Ruff supports a wide range of linting rules and is easily configurable to suit different coding standards.\n",
    "- Customization: While Ruff provides a broad set of rules out of the box, it allows you to enable or disable specific rules and configure them to your preferences."
   ]
  },
  {
   "cell_type": "raw",
   "id": "be3bc9ec",
   "metadata": {},
   "source": [
    "pip install ruff\n",
    "\n",
    "To lint and format a Python file using Ruff, you can run:\n",
    "ruff check your_file.py"
   ]
  },
  {
   "cell_type": "raw",
   "id": "b52cd234",
   "metadata": {},
   "source": [
    "ruff check your_file.py --fix\n",
    "This command will automatically fix issues where possible (e.g., sorting imports, fixing formatting)."
   ]
  }
 ],
 "metadata": {
  "kernelspec": {
   "display_name": "Python 3 (ipykernel)",
   "language": "python",
   "name": "python3"
  },
  "language_info": {
   "codemirror_mode": {
    "name": "ipython",
    "version": 3
   },
   "file_extension": ".py",
   "mimetype": "text/x-python",
   "name": "python",
   "nbconvert_exporter": "python",
   "pygments_lexer": "ipython3",
   "version": "3.9.13"
  }
 },
 "nbformat": 4,
 "nbformat_minor": 5
}
