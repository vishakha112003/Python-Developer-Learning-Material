{
 "cells": [
  {
   "cell_type": "markdown",
   "id": "2332851c",
   "metadata": {},
   "source": [
    "# Concurrency"
   ]
  },
  {
   "cell_type": "markdown",
   "id": "461085c7",
   "metadata": {},
   "source": [
    "## What is Concurrency in Python?"
   ]
  },
  {
   "cell_type": "markdown",
   "id": "aafbaae1",
   "metadata": {},
   "source": [
    "Concurrency in Python refers to the ability of a program to execute multiple tasks simultaneously. This is useful for improving the efficiency and responsiveness of applications, particularly when dealing with tasks that can be done in parallel, like I/O-bound operations (e.g., file reading/writing, network requests) or tasks that can be broken down into smaller, independent subtasks."
   ]
  },
  {
   "cell_type": "markdown",
   "id": "60d6f4f8",
   "metadata": {},
   "source": [
    "## What is Parallelism?\n",
    "Parallelism is a subset of concurrency where tasks or processes are executed simultaneously, As we know concurrency is about dealing with multiple tasks, whereas parallelism is about executing them simultaneously to speed computation. "
   ]
  },
  {
   "cell_type": "markdown",
   "id": "a40c069f",
   "metadata": {},
   "source": [
    "## What is Multiprocessing?\n",
    "Multiprocessing in Python is a technique that allows a program to run multiple processes simultaneously."
   ]
  },
  {
   "cell_type": "markdown",
   "id": "20a8c7a0",
   "metadata": {},
   "source": [
    "Consider a computer system with a single processor. If it is assigned several processes at the same time, it will have to interrupt each task and switch briefly to another, to keep all of the processes going.\n",
    "This situation is just like a chef working in a kitchen alone. He has to do several tasks like baking, stirring, kneading dough, etc.\n",
    "\n",
    "So the gist is that: The more tasks you must do at once, the more difficult it gets to keep track of them all, and keeping the timing right becomes more of a challenge."
   ]
  },
  {
   "cell_type": "markdown",
   "id": "84a63b13",
   "metadata": {},
   "source": [
    "You can create and start a new process using the Process class in the multiprocessing module. Each Process object represents a separate process that can execute a target function."
   ]
  },
  {
   "cell_type": "markdown",
   "id": "202116de",
   "metadata": {},
   "source": [
    "Let us consider a simple example using multiprocessing module."
   ]
  },
  {
   "cell_type": "code",
   "execution_count": 1,
   "id": "882be162",
   "metadata": {},
   "outputs": [
    {
     "name": "stdout",
     "output_type": "stream",
     "text": [
      "Done!\n"
     ]
    }
   ],
   "source": [
    "# importing the multiprocessing module \n",
    "import multiprocessing \n",
    "  \n",
    "def print_cube(num): \n",
    "    \"\"\" \n",
    "    function to print cube of given num \n",
    "    \"\"\"\n",
    "    print(\"Cube: {}\".format(num * num * num)) \n",
    "\n",
    "def print_square(num): \n",
    "    \"\"\" \n",
    "    function to print square of given num \n",
    "    \"\"\"\n",
    "    print(\"Square: {}\".format(num * num)) \n",
    "  \n",
    " \n",
    "if __name__ == \"__main__\": \n",
    "    # creating processes \n",
    "    p1 = multiprocessing.Process(target=print_square, args=(10, )) \n",
    "    p2 = multiprocessing.Process(target=print_cube, args=(10, )) \n",
    "  \n",
    "    # starting process 1 \n",
    "    p1.start() \n",
    "    # starting process 2 \n",
    "    p2.start() \n",
    "  \n",
    "    # wait until process 1 is finished \n",
    "    p1.join() \n",
    "    # wait until process 2 is finished \n",
    "    p2.join() \n",
    "  \n",
    "    # both processes finished \n",
    "    print(\"Done!\") "
   ]
  },
  {
   "cell_type": "markdown",
   "id": "6623d2d5",
   "metadata": {},
   "source": [
    "## Inter Process Communication"
   ]
  },
  {
   "cell_type": "markdown",
   "id": "94205016",
   "metadata": {},
   "source": [
    "Since each process has its own memory space, processes can't directly share data. However, the multiprocessing module provides mechanisms for inter-process communication (IPC), such as Queue, Pipe, and Manager."
   ]
  },
  {
   "cell_type": "raw",
   "id": "dc8f2f53",
   "metadata": {},
   "source": [
    "from multiprocessing import Process, Queue\n",
    "\n",
    "def task(queue):\n",
    "    queue.put(\"Data from process\")\n",
    "\n",
    "if __name__ == '__main__':\n",
    "    queue = Queue()\n",
    "    process = Process(target=task, args=(queue,))\n",
    "    process.start()\n",
    "    #process.join-This method makes the main process wait until the child process has finished executing. \n",
    "    #This ensures that the main process does not proceed to the next steps until the child process is complete.\n",
    "    process.join()\n",
    "    print(queue.get())"
   ]
  },
  {
   "cell_type": "markdown",
   "id": "cc9c8e4e",
   "metadata": {},
   "source": [
    "- Queue: A thread and process-safe FIFO queue that can be used to share data between processes.\n",
    "- Pipe: A simpler way to establish a two-way communication channel between processes.\n",
    "- Manager: Allows sharing more complex objects like dictionaries, lists, etc., between processes."
   ]
  },
  {
   "cell_type": "markdown",
   "id": "6a3e2482",
   "metadata": {},
   "source": [
    "A pool of worker processes can be used to manage multiple processes more efficiently. The Pool class in the multiprocessing module allows you to distribute tasks among a pool of worker processes."
   ]
  },
  {
   "cell_type": "raw",
   "id": "c1c65157",
   "metadata": {},
   "source": [
    "from multiprocessing import Pool\n",
    "\n",
    "def task(x):\n",
    "    return x * x\n",
    "\n",
    "if __name__ == '__main__':\n",
    "    with Pool(4) as p:\n",
    "        print(p.map(task, [1, 2, 3, 4]))"
   ]
  },
  {
   "cell_type": "markdown",
   "id": "0d3c69e4",
   "metadata": {},
   "source": [
    "# Threading"
   ]
  },
  {
   "cell_type": "markdown",
   "id": "a243cdd5",
   "metadata": {},
   "source": [
    "Threading in Python allows a program to run multiple threads (smaller units of a process) concurrently within the same process. Unlike processes, which have their own memory space, threads share the same memory space, making communication between them easier. "
   ]
  },
  {
   "cell_type": "code",
   "execution_count": 2,
   "id": "0b24a1cf",
   "metadata": {},
   "outputs": [
    {
     "name": "stdout",
     "output_type": "stream",
     "text": [
      "Square: 100\n",
      "Cube: 1000\n",
      "Done!\n"
     ]
    }
   ],
   "source": [
    "import threading\n",
    "\n",
    "\n",
    "def print_cube(num):\n",
    "    print(\"Cube: {}\" .format(num * num * num))\n",
    "\n",
    "\n",
    "def print_square(num):\n",
    "    print(\"Square: {}\" .format(num * num))\n",
    "\n",
    "\n",
    "if __name__ ==\"__main__\":\n",
    "    t1 = threading.Thread(target=print_square, args=(10,))\n",
    "    t2 = threading.Thread(target=print_cube, args=(10,))\n",
    "\n",
    "    t1.start()\n",
    "    t2.start()\n",
    "\n",
    "    t1.join()\n",
    "    t2.join()\n",
    "\n",
    "    print(\"Done!\")"
   ]
  },
  {
   "cell_type": "markdown",
   "id": "b8378e6b",
   "metadata": {},
   "source": [
    "A thread can be in one of several states:\n",
    "- New: The thread is created but not yet started.\n",
    "- Runnable: The thread is ready to run.\n",
    "- Blocked/Waiting: The thread is waiting for a resource or event.\n",
    "- Timed Waiting: The thread is waiting for a specified period.\n",
    "- Terminated: The thread has completed its execution."
   ]
  },
  {
   "cell_type": "markdown",
   "id": "fdb0c179",
   "metadata": {},
   "source": [
    "### Daemon Threads \n",
    "Threads can be set as daemon threads using thread.setDaemon(True). Daemon threads run in the background and are killed automatically when the main program exits. These threads perform background tasks. "
   ]
  },
  {
   "cell_type": "raw",
   "id": "d8fae068",
   "metadata": {},
   "source": [
    "import threading\n",
    "import time\n",
    "\n",
    "def task():\n",
    "    while True:\n",
    "        print(\"Daemon running\")\n",
    "        time.sleep(1)\n",
    "\n",
    "thread = threading.Thread(target=task)\n",
    "thread.setDaemon(True)\n",
    "thread.start()"
   ]
  },
  {
   "cell_type": "markdown",
   "id": "9ed5455e",
   "metadata": {},
   "source": [
    "### Thread Synchronization \n",
    "When multiple threads access shared data, race conditions can occur, leading to inconsistent or unexpected results. Python provides various synchronization primitives like Lock, RLock, Semaphore, and Event to manage these situations."
   ]
  },
  {
   "cell_type": "markdown",
   "id": "fd2b2882",
   "metadata": {},
   "source": [
    "### When to Use Threading:\n",
    "Threading is particularly useful for I/O-bound tasks, where threads spend time waiting for external operations like file I/O, network I/O, or user input. Examples include web scraping, downloading files, and handling multiple connections in a server."
   ]
  },
  {
   "cell_type": "raw",
   "id": "7b6dde31",
   "metadata": {},
   "source": [
    "# Example Use Case: Downloading Files Concurrently\n",
    "Here's an example of using threading to download files concurrently:\n",
    "import threading\n",
    "import requests\n",
    "\n",
    "def download_file(url, filename):\n",
    "    response = requests.get(url)\n",
    "    with open(filename, 'wb') as f:\n",
    "        f.write(response.content)\n",
    "    print(f\"{filename} downloaded\")\n",
    "\n",
    "urls = [\n",
    "    (\"https://example.com/file1\", \"file1\"),\n",
    "    (\"https://example.com/file2\", \"file2\"),\n",
    "    (\"https://example.com/file3\", \"file3\")\n",
    "]\n",
    "\n",
    "threads = []\n",
    "for url, filename in urls:\n",
    "    thread = threading.Thread(target=download_file, args=(url, filename))\n",
    "    thread.start()\n",
    "    threads.append(thread)\n",
    "\n",
    "for thread in threads:\n",
    "    thread.join()"
   ]
  },
  {
   "cell_type": "markdown",
   "id": "984e2d2c",
   "metadata": {},
   "source": [
    "# GIL"
   ]
  },
  {
   "cell_type": "markdown",
   "id": "c96d173f",
   "metadata": {},
   "source": [
    "The Global Interpreter Lock (GIL) is a mechanism in Python that ensures only one thread can execute Python code at a time, even if you have multiple threads."
   ]
  },
  {
   "cell_type": "markdown",
   "id": "3aed5166",
   "metadata": {},
   "source": [
    "Think of the GIL like a key to a room. Inside this room, there's a resource (like a piece of data) that multiple people (threads) want to use. But there's only one key to the room, and only one person can hold the key at any given time. So, even if there are multiple people waiting to use the resource, only one person can enter the room and work with the resource at a time. When that person is done, they give up the key, and the next person can enter."
   ]
  },
  {
   "cell_type": "markdown",
   "id": "efb865a1",
   "metadata": {},
   "source": [
    "### Why Does Python Have the GIL?\n",
    "- Memory Management: Python's memory management isn't thread-safe, which means if multiple threads tried to modify memory at the same time, it could lead to errors or crashes. The GIL prevents these issues by ensuring that only one thread can execute Python code at a time.\n",
    "- Simplifying Implementation: The GIL makes the implementation of the Python interpreter simpler and avoids complex issues that could arise from true multi-threading."
   ]
  },
  {
   "cell_type": "markdown",
   "id": "edde9d8d",
   "metadata": {},
   "source": [
    "# Asynchrony"
   ]
  },
  {
   "cell_type": "markdown",
   "id": "a30f9bcc",
   "metadata": {},
   "source": [
    "Asynchrony in Python allows you to perform multiple tasks at the same time without waiting for one to finish before starting another. This is especially useful when dealing with tasks that might take a while, like downloading files from the internet or reading large files from disk.\n",
    "\n",
    "In a traditional, synchronous program, if you want to download several files, you'd have to wait for each one to finish before starting the next. This can be slow because you're waiting around for something to happen (like the file to be downloaded) before moving on.\n",
    "\n",
    "With asynchrony, you can start downloading a file, and while you're waiting for it to finish, you can start downloading another one, and so on. Once any of them finishes, you can handle it right away without waiting for the others to complete."
   ]
  },
  {
   "cell_type": "markdown",
   "id": "62a20dcf",
   "metadata": {},
   "source": [
    "Python provides this capability using the asyncio library. "
   ]
  },
  {
   "cell_type": "raw",
   "id": "c780f130",
   "metadata": {},
   "source": [
    "import asyncio\n",
    " \n",
    "async def fn():\n",
    "    print('This is ')\n",
    "    await asyncio.sleep(1)\n",
    "    print('asynchronous programming')\n",
    "    await asyncio.sleep(1)\n",
    "    print('and not multi-threading')\n",
    " \n",
    "asyncio.run(fn())"
   ]
  },
  {
   "cell_type": "markdown",
   "id": "44f0cd6d",
   "metadata": {},
   "source": [
    "### asyncio Event Loop\n",
    "\n",
    "The event loop is the core of every asyncio application. It runs coroutines, handles I/O, and schedules tasks. Typically, you use asyncio.run() to start the event loop."
   ]
  },
  {
   "cell_type": "raw",
   "id": "2514be69",
   "metadata": {},
   "source": [
    "import asyncio\n",
    "\n",
    "async def say_hello():\n",
    "    print(\"Hello\")\n",
    "    await asyncio.sleep(1)\n",
    "    print(\"World\")\n",
    "\n",
    "asyncio.run(say_hello())"
   ]
  }
 ],
 "metadata": {
  "kernelspec": {
   "display_name": "Python 3 (ipykernel)",
   "language": "python",
   "name": "python3"
  },
  "language_info": {
   "codemirror_mode": {
    "name": "ipython",
    "version": 3
   },
   "file_extension": ".py",
   "mimetype": "text/x-python",
   "name": "python",
   "nbconvert_exporter": "python",
   "pygments_lexer": "ipython3",
   "version": "3.9.13"
  }
 },
 "nbformat": 4,
 "nbformat_minor": 5
}
