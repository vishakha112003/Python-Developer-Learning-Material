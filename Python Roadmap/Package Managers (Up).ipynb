{
 "cells": [
  {
   "cell_type": "markdown",
   "id": "7a59fae2",
   "metadata": {},
   "source": [
    "# Package managers"
   ]
  },
  {
   "cell_type": "markdown",
   "id": "29efa68f",
   "metadata": {},
   "source": [
    "# PyPI( Python Package Index)"
   ]
  },
  {
   "cell_type": "markdown",
   "id": "0fdc4f6c",
   "metadata": {},
   "source": [
    "PyPI, the Python Package Index, is a repository for Python software packages. You can find, install, and publish Python packages there. To use PyPI, you typically interact with it via the pip command-line tool.\n"
   ]
  },
  {
   "cell_type": "markdown",
   "id": "a89e6572",
   "metadata": {},
   "source": [
    "-**Installing a Package:**\n",
    "pip install package_name\n",
    "\n",
    "-**Upgrading a Package:**\n",
    "pip install --upgrade package_name\n",
    "\n",
    "-**Uninstalling a Package:**\n",
    "pip uninstall package_name\n",
    "\n",
    "-**Listing Installed Packages:**\n",
    "pip list\n",
    "\n",
    "-**Searching for Packages**\n",
    "pip search search_term\n",
    "\n",
    "-**Checking for Outdated Packages:**\n",
    "pip list --outdated\n",
    "\n",
    "-**Installing Packages from a requirements.txt File:**\n",
    "pip install -r requirements.txt\n",
    "\n",
    "-**Publishing a Package:**\n",
    "To publish a package, you typically need to create a setup.py file and use the following commands:\n",
    "python setup.py sdist bdist_wheel\n",
    "twine upload dist/*\n",
    "\n",
    "- Ensure you have twine installed:\n",
    "pip install twine"
   ]
  },
  {
   "cell_type": "raw",
   "id": "0a84311a",
   "metadata": {},
   "source": [
    "Freezing Installed Packages\n",
    "To generate a requirements.txt file of all installed packages, use the freeze command:\n",
    "pip freeze > requirements.txt"
   ]
  },
  {
   "cell_type": "markdown",
   "id": "1bdcfc8d",
   "metadata": {},
   "source": [
    "# pip\n",
    "pip is the package installer for Python, allowing you to install, manage, and uninstall packages from the Python Package Index (PyPI) and other indexes."
   ]
  },
  {
   "cell_type": "markdown",
   "id": "bb4908c4",
   "metadata": {},
   "source": [
    "# conda"
   ]
  },
  {
   "cell_type": "markdown",
   "id": "0ddd1baa",
   "metadata": {},
   "source": [
    "- conda is an open-source package management and environment management system that runs on Windows, macOS, and Linux. It was created for Python programs but can package and distribute software for any language. \n",
    "- Conda can install over 7,500 open-source packages. This includes a wide variety of packages not only in Python but also in languages like R, Ruby, Lua, Scala, Java, JavaScript, C/C++, FORTRAN.\n",
    "- Conda allows you to create multiple isolated environments. This is useful for managing different project requirements, as each environment can have its own versions of packages without interfering with other environments."
   ]
  },
  {
   "cell_type": "markdown",
   "id": "b97c09c9",
   "metadata": {},
   "source": [
    "### Installing Conda\n",
    "Conda is included in the Anaconda and Miniconda distributions:\n",
    "\n",
    "- Anaconda: A full distribution including conda, Python, and over 150 scientific packages.\n",
    "- Miniconda: A minimal distribution that includes conda and its dependencies."
   ]
  },
  {
   "cell_type": "markdown",
   "id": "0e198a85",
   "metadata": {},
   "source": [
    "### Basic Commands"
   ]
  },
  {
   "cell_type": "markdown",
   "id": "03982895",
   "metadata": {},
   "source": [
    "-**Creating a New Environment:**\n",
    "conda create --name myenv\n",
    "\n",
    "- You can specify Python or other packages while creating an environment:\n",
    "conda create --name myenv python=3.8 numpy\n",
    "\n",
    "-**Activating an Environment:**\n",
    "conda activate myenv\n",
    "\n",
    "-**Deactivating an Environment:**\n",
    "conda deactivate\n",
    "\n",
    "-**Installing Packages:**\n",
    "conda install package-name\n",
    "You can also specify the version: conda install package-name=1.2.3\n",
    "\n",
    "-**Listing Installed Packages:**\n",
    "conda list\n",
    "\n",
    "-**Updating Packages:**\n",
    "conda update package-name\n",
    "\n",
    "-**Removing Packages:**\n",
    "conda remove package-name\n",
    "\n",
    "-**Exporting Environment:**\n",
    "conda env export > environment.yml\n",
    "\n",
    "-**Creating Environment from File:**\n",
    "conda env create -f environment.yml"
   ]
  },
  {
   "cell_type": "markdown",
   "id": "5e05ab25",
   "metadata": {},
   "source": [
    "# uv"
   ]
  },
  {
   "cell_type": "markdown",
   "id": "b34029c3",
   "metadata": {},
   "source": [
    "An extremely fast Python package installer and resolver, written in Rust. Designed as a drop-in replacement for common pip and pip-tools workflows."
   ]
  },
  {
   "cell_type": "markdown",
   "id": "08964e79",
   "metadata": {},
   "source": [
    "### Highlights\n",
    "- Drop-in replacement for common pip, pip-tools, and virtualenv commands.\n",
    "- 10-100x faster than pip and pip-tools (pip-compile and pip-sync).\n",
    "- Disk-space efficient, with a global cache for dependency deduplication.\n",
    "- Installable via curl, pip, pipx, etc. uv is a static binary that can be installed without Rust or Python.\n",
    "- Tested at-scale against the top 10,000 PyPI packages.\n",
    "- Support for macOS, Linux, and Windows.\n",
    "- Advanced features such as dependency version overrides and alternative resolution strategies.\n",
    "- Best-in-class error messages with a conflict-tracking resolver.\n",
    "- Support for a wide range of advanced pip features, including editable installs, Git dependencies, direct URL dependencies, local dependencies, constraints, source distributions, HTML and JSON indexes, and more."
   ]
  },
  {
   "cell_type": "code",
   "execution_count": 2,
   "id": "b243375d",
   "metadata": {},
   "outputs": [
    {
     "name": "stdout",
     "output_type": "stream",
     "text": [
      "Collecting uv\n",
      "  Downloading uv-0.2.33-py3-none-win_amd64.whl (12.1 MB)\n",
      "     ---------------------------------------- 12.1/12.1 MB 2.2 MB/s eta 0:00:00\n",
      "Installing collected packages: uv\n",
      "Successfully installed uv-0.2.33\n",
      "Note: you may need to restart the kernel to use updated packages.\n"
     ]
    }
   ],
   "source": [
    "pip install uv "
   ]
  },
  {
   "cell_type": "markdown",
   "id": "59fe678d",
   "metadata": {},
   "source": [
    "- To install a package into the virtual environment:\n",
    "\n",
    "eg - uv pip install flask "
   ]
  },
  {
   "cell_type": "markdown",
   "id": "8ed38ce7",
   "metadata": {},
   "source": [
    "- To generate a set of locked dependencies:\n",
    "\n",
    "uv pip compile requirements.in -o requirements.txt    # Read a requirements.in file."
   ]
  },
  {
   "cell_type": "markdown",
   "id": "09a2475d",
   "metadata": {},
   "source": [
    "# Poetry"
   ]
  },
  {
   "cell_type": "markdown",
   "id": "f03ee4fc",
   "metadata": {},
   "source": [
    "Poetry is a dependency management and packaging tool for Python that aims to simplify the management of project dependencies, packaging, and publishing. It provides a robust way to handle Python projects with a single configuration file and a command-line interface. "
   ]
  },
  {
   "cell_type": "markdown",
   "id": "7b1e8f27",
   "metadata": {},
   "source": [
    "### Features\n",
    "- Dependency Management: Handles project dependencies and their versions.\n",
    "- Packaging: Facilitates packaging and publishing of Python projects.\n",
    "- Virtual Environments: Automatically creates and manages virtual environments for projects.\n",
    "- Version Management: Simplifies versioning and releases of projects.\n",
    "- Unified Configuration: Uses a pyproject.toml file for project configuration."
   ]
  },
  {
   "cell_type": "markdown",
   "id": "addfd97f",
   "metadata": {},
   "source": [
    "### Basic Commands\n",
    "\n",
    "\n",
    "- Install Poetry globally using pip:\n",
    "pip install poetry\n",
    "\n",
    "- Creating a New Project\n",
    "poetry new my-project\n",
    "This will create a new directory named my-project with a basic structure.\n",
    "\n",
    "- Add a dependency to your project:\n",
    "poetry add requests\n",
    "This will update your pyproject.toml file and install the package in the virtual environment.\n",
    "\n",
    "- To install all dependencies listed in pyproject.toml:\n",
    "poetry install\n",
    "\n",
    "- Activate the virtual environment:\n",
    "poetry shell\n",
    "\n",
    "- Or run a command within the virtual environment:\n",
    "poetry run python script.py\n",
    "\n",
    "- Build the project distribution:\n",
    "poetry build\n",
    "\n",
    "- Publish the project to a package repository:\n",
    "poetry publish --repository pypi\n",
    "\n",
    "- Configuration\n",
    "Manage project settings in the pyproject.toml file."
   ]
  },
  {
   "cell_type": "markdown",
   "id": "c623c4f4",
   "metadata": {},
   "source": [
    "## Summary"
   ]
  },
  {
   "cell_type": "markdown",
   "id": "8d3a9500",
   "metadata": {},
   "source": [
    "- pip: The traditional and default package installer for Python, handling basic package management but with potential performance limitations and less sophisticated dependency resolution.\n",
    "- poetry: A comprehensive tool for managing dependencies, packaging, and virtual environments with improved dependency resolution and integrated tooling.\n",
    "- uv: A new, high-performance package installer written in Rust, designed for faster package installation and dependency resolution compared to pip."
   ]
  }
 ],
 "metadata": {
  "kernelspec": {
   "display_name": "Python 3 (ipykernel)",
   "language": "python",
   "name": "python3"
  },
  "language_info": {
   "codemirror_mode": {
    "name": "ipython",
    "version": 3
   },
   "file_extension": ".py",
   "mimetype": "text/x-python",
   "name": "python",
   "nbconvert_exporter": "python",
   "pygments_lexer": "ipython3",
   "version": "3.9.13"
  }
 },
 "nbformat": 4,
 "nbformat_minor": 5
}
