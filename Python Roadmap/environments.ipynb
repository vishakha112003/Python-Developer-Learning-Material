{
 "cells": [
  {
   "cell_type": "markdown",
   "id": "2b2d8e42",
   "metadata": {},
   "source": [
    "# pipenv"
   ]
  },
  {
   "cell_type": "markdown",
   "id": "0547c62e",
   "metadata": {},
   "source": [
    "Pipenv is a tool that makes it easy to manage Python projects by taking care of virtual environments and dependencies (the packages your project needs)."
   ]
  },
  {
   "cell_type": "markdown",
   "id": "83b4f9f9",
   "metadata": {},
   "source": [
    "### What It Does:\n",
    "- Virtual Environments: It creates a separate space for your project where all the packages are installed, so they don’t interfere with other projects.\n",
    "- Dependencies: When you install a package, Pipenv keeps track of it in a file (Pipfile). This way, you know exactly what your project needs to work.\n",
    "- Locking Versions: Pipenv also creates a Pipfile.lock to remember the exact versions of the packages, so you can be sure your project works the same way every time."
   ]
  },
  {
   "cell_type": "code",
   "execution_count": 1,
   "id": "35f3fb24",
   "metadata": {},
   "outputs": [
    {
     "name": "stdout",
     "output_type": "stream",
     "text": [
      "Collecting pipenv\n",
      "  Downloading pipenv-2024.0.1-py3-none-any.whl (3.2 MB)\n",
      "     ---------------------------------------- 3.2/3.2 MB 4.5 MB/s eta 0:00:00\n",
      "Requirement already satisfied: certifi in c:\\users\\aakriti\\anaconda3\\anaconda2\\lib\\site-packages (from pipenv) (2022.9.14)\n",
      "Requirement already satisfied: virtualenv>=20.24.2 in c:\\users\\aakriti\\anaconda3\\anaconda2\\lib\\site-packages (from pipenv) (20.26.3)\n",
      "Collecting setuptools>=67\n",
      "  Downloading setuptools-72.1.0-py3-none-any.whl (2.3 MB)\n",
      "     ---------------------------------------- 2.3/2.3 MB 4.3 MB/s eta 0:00:00\n",
      "Requirement already satisfied: distlib<1,>=0.3.7 in c:\\users\\aakriti\\anaconda3\\anaconda2\\lib\\site-packages (from virtualenv>=20.24.2->pipenv) (0.3.8)\n",
      "Requirement already satisfied: platformdirs<5,>=3.9.1 in c:\\users\\aakriti\\anaconda3\\anaconda2\\lib\\site-packages (from virtualenv>=20.24.2->pipenv) (4.2.2)\n",
      "Requirement already satisfied: filelock<4,>=3.12.2 in c:\\users\\aakriti\\anaconda3\\anaconda2\\lib\\site-packages (from virtualenv>=20.24.2->pipenv) (3.15.4)\n",
      "Installing collected packages: setuptools, pipenv\n",
      "  Attempting uninstall: setuptools\n",
      "    Found existing installation: setuptools 63.4.1\n",
      "    Uninstalling setuptools-63.4.1:\n",
      "      Successfully uninstalled setuptools-63.4.1\n",
      "Successfully installed pipenv-2024.0.1 setuptools-72.1.0\n",
      "Note: you may need to restart the kernel to use updated packages.\n"
     ]
    },
    {
     "name": "stderr",
     "output_type": "stream",
     "text": [
      "ERROR: pip's dependency resolver does not currently take into account all the packages that are installed. This behaviour is the source of the following dependency conflicts.\n",
      "spyder 5.2.2 requires pyqt5<5.13, which is not installed.\n",
      "spyder 5.2.2 requires pyqtwebengine<5.13, which is not installed.\n",
      "anaconda-project 0.11.1 requires ruamel-yaml, which is not installed.\n",
      "tensorflow-intel 2.12.0 requires numpy<1.24,>=1.22, but you have numpy 1.21.6 which is incompatible.\n",
      "conda-repo-cli 1.0.20 requires clyent==1.2.1, but you have clyent 1.2.2 which is incompatible.\n",
      "conda-repo-cli 1.0.20 requires nbformat==5.4.0, but you have nbformat 5.5.0 which is incompatible.\n"
     ]
    }
   ],
   "source": [
    "pip install pipenv"
   ]
  },
  {
   "cell_type": "raw",
   "id": "e03f6d4d",
   "metadata": {},
   "source": [
    "pipenv install <package_name>"
   ]
  },
  {
   "cell_type": "markdown",
   "id": "5d1baff8",
   "metadata": {},
   "source": [
    "This command does two things: it creates a virtual environment and installs the package you need."
   ]
  },
  {
   "cell_type": "markdown",
   "id": "6a24bfd3",
   "metadata": {},
   "source": [
    "# virtualenv"
   ]
  },
  {
   "cell_type": "markdown",
   "id": "4de512ff",
   "metadata": {},
   "source": [
    "virtualenv is a tool used to create isolated Python environments. Each environment is a separate space where you can install packages without affecting other projects or the global Python installation on your system"
   ]
  },
  {
   "cell_type": "markdown",
   "id": "c179ac08",
   "metadata": {},
   "source": [
    "### What It Does:\n",
    "- Isolated Environments: It creates a unique directory for your project with its own Python interpreter and libraries, so changes in one project don’t affect others.\n",
    "- Dependency Management: You can install project-specific packages without worrying about version conflicts with other projects."
   ]
  },
  {
   "cell_type": "code",
   "execution_count": 3,
   "id": "31bf3b06",
   "metadata": {},
   "outputs": [
    {
     "name": "stdout",
     "output_type": "stream",
     "text": [
      "Requirement already satisfied: virtualenv in c:\\users\\aakriti\\anaconda3\\anaconda2\\lib\\site-packages (20.26.3)\n",
      "Requirement already satisfied: platformdirs<5,>=3.9.1 in c:\\users\\aakriti\\anaconda3\\anaconda2\\lib\\site-packages (from virtualenv) (4.2.2)\n",
      "Requirement already satisfied: distlib<1,>=0.3.7 in c:\\users\\aakriti\\anaconda3\\anaconda2\\lib\\site-packages (from virtualenv) (0.3.8)\n",
      "Requirement already satisfied: filelock<4,>=3.12.2 in c:\\users\\aakriti\\anaconda3\\anaconda2\\lib\\site-packages (from virtualenv) (3.15.4)\n",
      "Note: you may need to restart the kernel to use updated packages.\n"
     ]
    }
   ],
   "source": [
    "pip install virtualenv"
   ]
  },
  {
   "cell_type": "raw",
   "id": "b1119931",
   "metadata": {},
   "source": [
    "virtualenv myenv"
   ]
  },
  {
   "cell_type": "raw",
   "id": "b4d95d92",
   "metadata": {},
   "source": [
    "#to activate the virtual environment \n",
    "myenv\\Scripts\\activate"
   ]
  },
  {
   "cell_type": "markdown",
   "id": "bdaa25c1",
   "metadata": {},
   "source": [
    "Once activated, you can install packages easily."
   ]
  },
  {
   "cell_type": "raw",
   "id": "b021244b",
   "metadata": {},
   "source": [
    "pip install <package_name>"
   ]
  },
  {
   "cell_type": "markdown",
   "id": "705e6bea",
   "metadata": {},
   "source": [
    "# pyenv"
   ]
  },
  {
   "cell_type": "markdown",
   "id": "ce338583",
   "metadata": {},
   "source": [
    "### What It Does:\n",
    "- Version Management: Install and manage multiple versions of Python.\n",
    "- Switching Versions: Easily switch between different Python versions for different projects.\n",
    "- Environment Control: Create isolated environments for different Python versions using pyenv-virtualenv.\n",
    "- With the pyenv-virtualenv plugin, you can create and manage virtual environments for different Python versions."
   ]
  },
  {
   "cell_type": "raw",
   "id": "f4f7b558",
   "metadata": {},
   "source": [
    "To install pyenv\n",
    "curl https://pyenv.run | bash"
   ]
  },
  {
   "cell_type": "raw",
   "id": "64064cf0",
   "metadata": {},
   "source": [
    "pyenv install <version>\n",
    "Replace <version> with the specific Python version you want to install (e.g., 3.8.10)."
   ]
  },
  {
   "cell_type": "raw",
   "id": "f7bc1788",
   "metadata": {},
   "source": [
    "pyenv global <version>\n",
    "pyenv local <version>\n",
    "\n",
    "First command sets a global version for all projects and the second command sets the python version in current directory."
   ]
  },
  {
   "cell_type": "raw",
   "id": "9b9dd4a6",
   "metadata": {},
   "source": [
    "pyenv virtualenv <python_version> <env_name>"
   ]
  },
  {
   "cell_type": "raw",
   "id": "166bc223",
   "metadata": {},
   "source": [
    "pyenv activate <env_name>"
   ]
  },
  {
   "cell_type": "markdown",
   "id": "3a8d5760",
   "metadata": {},
   "source": [
    "# Comparison between three"
   ]
  },
  {
   "cell_type": "markdown",
   "id": "d95e4822",
   "metadata": {},
   "source": [
    "- Pipenv: Best for integrated management of dependencies and virtual environments. Ideal for projects where you want a unified approach.\n",
    "- Virtualenv: Best for creating isolated Python environments. Works well with traditional dependency management tools.\n",
    "- Pyenv: Best for managing multiple Python versions. Often used with other tools like virtualenv or pipenv for complete environment management."
   ]
  }
 ],
 "metadata": {
  "kernelspec": {
   "display_name": "Python 3 (ipykernel)",
   "language": "python",
   "name": "python3"
  },
  "language_info": {
   "codemirror_mode": {
    "name": "ipython",
    "version": 3
   },
   "file_extension": ".py",
   "mimetype": "text/x-python",
   "name": "python",
   "nbconvert_exporter": "python",
   "pygments_lexer": "ipython3",
   "version": "3.9.13"
  }
 },
 "nbformat": 4,
 "nbformat_minor": 5
}
