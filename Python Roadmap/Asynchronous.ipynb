{
 "cells": [
  {
   "cell_type": "markdown",
   "id": "c3de5095",
   "metadata": {},
   "source": [
    "# gevent "
   ]
  },
  {
   "cell_type": "markdown",
   "id": "4492bd9f",
   "metadata": {},
   "source": [
    "Gevent is a Python library that helps you write programs that can do many things at once, like handling multiple network connections or tasks without slowing down."
   ]
  },
  {
   "cell_type": "markdown",
   "id": "c3246264",
   "metadata": {},
   "source": [
    "### How it Works:\n",
    "- Greenlets: Think of greenlets like tiny workers that can handle tasks one by one very quickly. They’re much lighter than traditional threads, which are like heavier workers that take up more resources.\n",
    "- Monkey Patching: Gevent can \"change\" some Python modules (like networking and time functions) so they work better with its tiny workers, making everything run smoothly without getting stuck. Gevent can \"monkey-patch\" standard Python modules like socket, ssl, os, time, and others, allowing them to work cooperatively with greenlets. This means you can use these modules in a gevent-powered application as if they were blocking, but they will actually yield control when waiting for I/O.\n",
    "- Asynchronous I/O: When your program is waiting for something, like data from the internet, gevent lets it do other tasks in the meantime, so it's not just sitting idle."
   ]
  },
  {
   "cell_type": "markdown",
   "id": "de4776d1",
   "metadata": {},
   "source": [
    "### Common Use Cases:\n",
    "- Building web servers and applications.\n",
    "- Networking clients and servers.\n",
    "- Asynchronous I/O-bound tasks.\n",
    "- Handling large numbers of concurrent connections."
   ]
  },
  {
   "cell_type": "markdown",
   "id": "031a0ccc",
   "metadata": {},
   "source": [
    "Imagine you’re running a lemonade stand, and gevent is like hiring a bunch of super-fast workers who can serve customers without waiting for the lemons to be squeezed. While one worker is waiting for lemons, another can start serving a new customer."
   ]
  },
  {
   "cell_type": "raw",
   "id": "e3c258f9",
   "metadata": {},
   "source": [
    "import gevent\n",
    "from gevent import monkey\n",
    "import requests\n",
    "\n",
    "# Patch standard library modules to be cooperative\n",
    "monkey.patch_all()\n",
    "\n",
    "def fetch_url(url):\n",
    "    print(f\"Starting {url}\")\n",
    "    response = requests.get(url)\n",
    "    print(f\"Finished {url} with status {response.status_code}\")\n",
    "\n",
    "urls = [\n",
    "    \"http://www.google.com\",\n",
    "    \"http://www.example.com\",\n",
    "    \"http://www.python.org\"\n",
    "]\n",
    "\n",
    "# Create a list of greenlets (coroutines)\n",
    "greenlets = [gevent.spawn(fetch_url, url) for url in urls]\n",
    "\n",
    "# Wait for all greenlets to complete\n",
    "gevent.joinall(greenlets)"
   ]
  },
  {
   "cell_type": "markdown",
   "id": "9cc01ba9",
   "metadata": {},
   "source": [
    "# aiohttp"
   ]
  },
  {
   "cell_type": "markdown",
   "id": "b889f21d",
   "metadata": {},
   "source": [
    "aiohttp is an asynchronous HTTP client/server framework built on top of Python's asyncio library. It allows you to write high-performance web applications that can handle many simultaneous requests efficiently.\n",
    "\n",
    "### Key Features of aiohttp\n",
    "- Asynchronous HTTP Client and Server: aiohttp provides both client and server capabilities for making HTTP requests and building web servers.\n",
    "- Non-blocking I/O: aiohttp uses Python's asyncio to perform non-blocking I/O operations, making it ideal for I/O-bound tasks like web scraping, interacting with APIs, or building scalable web services.\n",
    "- WebSockets: aiohttp has built-in support for WebSockets, allowing you to create real-time applications like chat services.\n",
    "- Streaming: You can stream request and response bodies, which is useful for handling large files or data streams."
   ]
  },
  {
   "cell_type": "raw",
   "id": "fce4e415",
   "metadata": {},
   "source": [
    "# aiohttp client \n",
    "\n",
    "import aiohttp\n",
    "import asyncio\n",
    "\n",
    "async def fetch(session, url):\n",
    "    async with session.get(url) as response:\n",
    "        return await response.text()\n",
    "\n",
    "async def main():\n",
    "    async with aiohttp.ClientSession() as session:\n",
    "        html = await fetch(session, 'http://python.org')\n",
    "        print(html)\n",
    "\n",
    "# Run the main coroutine\n",
    "asyncio.run(main())"
   ]
  },
  {
   "cell_type": "raw",
   "id": "de2915f1",
   "metadata": {},
   "source": [
    "# aiohttp server \n",
    "from aiohttp import web\n",
    "\n",
    "async def handle(request):\n",
    "    name = request.match_info.get('name', \"Anonymous\")\n",
    "    text = f\"Hello, {name}\"\n",
    "    return web.Response(text=text)\n",
    "\n",
    "app = web.Application()\n",
    "app.add_routes([web.get('/', handle),\n",
    "                web.get('/{name}', handle)])\n",
    "\n",
    "if __name__ == '__main__':\n",
    "    web.run_app(app)"
   ]
  },
  {
   "cell_type": "markdown",
   "id": "caffff65",
   "metadata": {},
   "source": [
    "# Tornado "
   ]
  },
  {
   "cell_type": "markdown",
   "id": "8a7c17a4",
   "metadata": {},
   "source": [
    "Tornado is a Python web framework and asynchronous networking library, designed to handle a large number of simultaneous connections, which makes it ideal for real-time web applications.\n",
    "\n",
    "- IOLoop: Tornado's event loop, responsible for handling non-blocking I/O operations.\n",
    "- RequestHandler: Defines how HTTP requests are handled.\n",
    "- Application: A collection of request handlers that make up the web application.\n",
    "- Coroutines and Futures: Tornado uses coroutines (with async and await) to write asynchronous code."
   ]
  },
  {
   "cell_type": "markdown",
   "id": "6306aa3e",
   "metadata": {},
   "source": [
    "### Basic Hello World Prog in Tornado"
   ]
  },
  {
   "cell_type": "raw",
   "id": "c04ad0cd",
   "metadata": {},
   "source": [
    "import tornado.ioloop\n",
    "import tornado.web\n",
    " \n",
    "class MainHandler(tornado.web.RequestHandler):\n",
    "    def get(self):\n",
    "        self.write(\"Hello, Tornado!\")\n",
    " \n",
    "def make_app():\n",
    "    return tornado.web.Application([(r\"/\", MainHandler)])\n",
    " \n",
    "if __name__ == \"__main__\":\n",
    "    app = make_app()\n",
    "    app.listen(8888)\n",
    "    tornado.ioloop.IOLoop.current().start()"
   ]
  },
  {
   "cell_type": "markdown",
   "id": "b62cc226",
   "metadata": {},
   "source": [
    "Save the above code to a file, say app.py, and run it using Python:\n",
    "python app.py"
   ]
  },
  {
   "cell_type": "markdown",
   "id": "a88405a7",
   "metadata": {},
   "source": [
    "#### Tornado is designed to manage lots of people using your site at the same time without slowing down. For example, it’s great for chat apps, where many users might be sending messages all at once."
   ]
  },
  {
   "cell_type": "markdown",
   "id": "61b839c7",
   "metadata": {},
   "source": [
    "# Sanic"
   ]
  },
  {
   "cell_type": "markdown",
   "id": "294e806a",
   "metadata": {},
   "source": [
    "Sanic is another web framework in Python, similar to Tornado, but with a focus on being fast and simple to use. It’s designed to help you build web applications quickly, especially ones that need to handle a lot of requests efficiently.\n",
    "\n",
    "### Key Ideas:\n",
    "- Speed: Sanic is known for being really fast. It was one of the first Python web frameworks built on asyncio, which allows it to handle multiple requests at the same time without slowing down.\n",
    "- Asynchronous: Like Tornado, Sanic uses asynchronous programming. This means it can start a task (like fetching data from a database) and while waiting for that task to finish, it can start another task. This makes your web application run faster and more efficiently.\n",
    "- Simple Routing: Sanic makes it easy to set up routes, which are the different URLs or pages on your website. For example, you can quickly create a route that shows a homepage, another for a user profile, and so on.\n",
    "\n",
    "### How It Works:\n",
    "- Request and Response: When someone visits your site, Sanic handles their request and sends back a response. For instance, if they visit your homepage, Sanic might send back \"Welcome to my website!\".\n",
    "- Blueprints: These are a way to organize your routes and views. If you have a big app with many features, blueprints help you keep everything organized.\n",
    "- Middleware: Sanic allows you to run certain code before or after handling a request. For example, you could use middleware to check if a user is logged in before allowing them to see certain pages."
   ]
  },
  {
   "cell_type": "markdown",
   "id": "2d71139e",
   "metadata": {},
   "source": [
    "BUILDING FIRST SANIC APP \n",
    "- Step 1: It is preferable to use virtual environments in Python to create isolated environments with project-specific dependencies. Since Sanic 19.6+ versions do not support Python 3.5, we will work with Python 3.6+. To install sanic in our Python virtual environment we will execute the following command – pip3 install sanic \n",
    "- Step 2: Let us create a directory named sanic_demo & within it a file named main.py with the following lines of code "
   ]
  },
  {
   "cell_type": "raw",
   "id": "d89c5241",
   "metadata": {},
   "source": [
    "from sanic import Sanic\n",
    "from sanic import response\n",
    " \n",
    "app = Sanic(\"My First Sanic App\")\n",
    " \n",
    " \n",
    "#webapp path defined used route decorator\n",
    "@app.route(\"/\")\n",
    "def run(request):\n",
    "    return response.text(\"Hello World !\")\n",
    " \n",
    " \n",
    "#debug logs enabled with debug = True\n",
    "app.run(host =\"0.0.0.0\", port = 8000, debug = True)"
   ]
  },
  {
   "cell_type": "markdown",
   "id": "e7c3764f",
   "metadata": {},
   "source": [
    "- Step 3: We may either run main.py from an IDE, or run the file from Terminal by executing the following command – python3 main.py The Sanic web server is up on 8000 port of our ‘localhost’.\n",
    "- Step 4: Navigating to http://0.0.0.0:8000/ from our web browser renders “Hello World!”."
   ]
  }
 ],
 "metadata": {
  "kernelspec": {
   "display_name": "Python 3 (ipykernel)",
   "language": "python",
   "name": "python3"
  },
  "language_info": {
   "codemirror_mode": {
    "name": "ipython",
    "version": 3
   },
   "file_extension": ".py",
   "mimetype": "text/x-python",
   "name": "python",
   "nbconvert_exporter": "python",
   "pygments_lexer": "ipython3",
   "version": "3.9.13"
  }
 },
 "nbformat": 4,
 "nbformat_minor": 5
}
